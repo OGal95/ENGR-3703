{
 "cells": [
  {
   "cell_type": "markdown",
   "id": "2b7d59be-0e36-4ab0-8ba2-f8bf68c2305a",
   "metadata": {},
   "source": [
    "## 2.RK4\n",
    "\n"
   ]
  },
  {
   "cell_type": "code",
   "execution_count": 4,
   "id": "ca944da8-5bf4-4697-a5df-d85e7ae9690e",
   "metadata": {},
   "outputs": [
    {
     "ename": "NameError",
     "evalue": "name 'xip1' is not defined",
     "output_type": "error",
     "traceback": [
      "\u001b[0;31m---------------------------------------------------------------------------\u001b[0m",
      "\u001b[0;31mNameError\u001b[0m                                 Traceback (most recent call last)",
      "\u001b[0;32m/tmp/ipykernel_12688/2966163969.py\u001b[0m in \u001b[0;36m<module>\u001b[0;34m\u001b[0m\n\u001b[1;32m     68\u001b[0m \u001b[0;32mfor\u001b[0m \u001b[0mi\u001b[0m \u001b[0;32min\u001b[0m \u001b[0mrange\u001b[0m\u001b[0;34m(\u001b[0m\u001b[0;36m1\u001b[0m\u001b[0;34m,\u001b[0m\u001b[0mn\u001b[0m\u001b[0;34m)\u001b[0m\u001b[0;34m:\u001b[0m\u001b[0;34m\u001b[0m\u001b[0;34m\u001b[0m\u001b[0m\n\u001b[1;32m     69\u001b[0m     \u001b[0mt\u001b[0m\u001b[0;34m[\u001b[0m\u001b[0mi\u001b[0m\u001b[0;34m]\u001b[0m \u001b[0;34m=\u001b[0m \u001b[0mti\u001b[0m \u001b[0;34m+\u001b[0m \u001b[0mi\u001b[0m \u001b[0;34m*\u001b[0m \u001b[0mdt\u001b[0m\u001b[0;34m\u001b[0m\u001b[0;34m\u001b[0m\u001b[0m\n\u001b[0;32m---> 70\u001b[0;31m     \u001b[0mx\u001b[0m\u001b[0;34m[\u001b[0m\u001b[0mi\u001b[0m\u001b[0;34m]\u001b[0m \u001b[0;34m=\u001b[0m \u001b[0mrk4_x\u001b[0m\u001b[0;34m(\u001b[0m\u001b[0mt\u001b[0m\u001b[0;34m[\u001b[0m\u001b[0mi\u001b[0m\u001b[0;34m-\u001b[0m\u001b[0;36m1\u001b[0m\u001b[0;34m]\u001b[0m\u001b[0;34m,\u001b[0m \u001b[0mx\u001b[0m\u001b[0;34m[\u001b[0m\u001b[0mi\u001b[0m\u001b[0;34m-\u001b[0m\u001b[0;36m1\u001b[0m\u001b[0;34m]\u001b[0m\u001b[0;34m,\u001b[0m \u001b[0mv\u001b[0m\u001b[0;34m[\u001b[0m\u001b[0mi\u001b[0m\u001b[0;34m-\u001b[0m\u001b[0;36m1\u001b[0m\u001b[0;34m]\u001b[0m\u001b[0;34m,\u001b[0m \u001b[0mdt\u001b[0m\u001b[0;34m)\u001b[0m\u001b[0;34m\u001b[0m\u001b[0;34m\u001b[0m\u001b[0m\n\u001b[0m\u001b[1;32m     71\u001b[0m     \u001b[0mv\u001b[0m\u001b[0;34m[\u001b[0m\u001b[0mi\u001b[0m\u001b[0;34m]\u001b[0m \u001b[0;34m=\u001b[0m \u001b[0mrk4_v\u001b[0m\u001b[0;34m(\u001b[0m\u001b[0mt\u001b[0m\u001b[0;34m[\u001b[0m\u001b[0mi\u001b[0m\u001b[0;34m-\u001b[0m\u001b[0;36m1\u001b[0m\u001b[0;34m]\u001b[0m\u001b[0;34m,\u001b[0m \u001b[0mx\u001b[0m\u001b[0;34m[\u001b[0m\u001b[0mi\u001b[0m\u001b[0;34m-\u001b[0m\u001b[0;36m1\u001b[0m\u001b[0;34m]\u001b[0m\u001b[0;34m,\u001b[0m \u001b[0mv\u001b[0m\u001b[0;34m[\u001b[0m\u001b[0mi\u001b[0m\u001b[0;34m-\u001b[0m\u001b[0;36m1\u001b[0m\u001b[0;34m]\u001b[0m\u001b[0;34m,\u001b[0m \u001b[0mdt\u001b[0m\u001b[0;34m)\u001b[0m\u001b[0;34m\u001b[0m\u001b[0;34m\u001b[0m\u001b[0m\n\u001b[1;32m     72\u001b[0m \u001b[0mx_ud\u001b[0m \u001b[0;34m=\u001b[0m \u001b[0;34m[\u001b[0m\u001b[0mxud_of_t\u001b[0m\u001b[0;34m(\u001b[0m\u001b[0mDI\u001b[0m\u001b[0;34m,\u001b[0m \u001b[0mDII\u001b[0m\u001b[0;34m,\u001b[0m \u001b[0mzeta_ud\u001b[0m\u001b[0;34m,\u001b[0m \u001b[0momega_n\u001b[0m\u001b[0;34m,\u001b[0m \u001b[0momega_d\u001b[0m\u001b[0;34m,\u001b[0m \u001b[0mtval\u001b[0m\u001b[0;34m)\u001b[0m \u001b[0;32mfor\u001b[0m \u001b[0mtval\u001b[0m \u001b[0;32min\u001b[0m \u001b[0mx_TS\u001b[0m\u001b[0;34m]\u001b[0m\u001b[0;34m\u001b[0m\u001b[0;34m\u001b[0m\u001b[0m\n",
      "\u001b[0;32m/tmp/ipykernel_12688/2966163969.py\u001b[0m in \u001b[0;36mrk4_x\u001b[0;34m(ti, xi, vi, dt)\u001b[0m\n\u001b[1;32m     50\u001b[0m     \u001b[0mK4\u001b[0m \u001b[0;34m=\u001b[0m \u001b[0mfxy_x\u001b[0m\u001b[0;34m(\u001b[0m\u001b[0mti\u001b[0m \u001b[0;34m+\u001b[0m \u001b[0ma4\u001b[0m \u001b[0;34m*\u001b[0m \u001b[0mdt\u001b[0m\u001b[0;34m,\u001b[0m \u001b[0mxi\u001b[0m \u001b[0;34m+\u001b[0m \u001b[0mb41\u001b[0m \u001b[0;34m*\u001b[0m \u001b[0mK1\u001b[0m \u001b[0;34m*\u001b[0m \u001b[0mdt\u001b[0m \u001b[0;34m+\u001b[0m \u001b[0mb42\u001b[0m \u001b[0;34m*\u001b[0m \u001b[0mK2\u001b[0m \u001b[0;34m*\u001b[0m \u001b[0mdt\u001b[0m \u001b[0;34m+\u001b[0m \u001b[0mb43\u001b[0m \u001b[0;34m*\u001b[0m \u001b[0mK3\u001b[0m \u001b[0;34m*\u001b[0m \u001b[0mdt\u001b[0m\u001b[0;34m,\u001b[0m \u001b[0mvi\u001b[0m\u001b[0;34m)\u001b[0m\u001b[0;34m\u001b[0m\u001b[0;34m\u001b[0m\u001b[0m\n\u001b[1;32m     51\u001b[0m     \u001b[0mvip1\u001b[0m \u001b[0;34m=\u001b[0m \u001b[0mxi\u001b[0m \u001b[0;34m+\u001b[0m \u001b[0;34m(\u001b[0m\u001b[0mc1\u001b[0m \u001b[0;34m*\u001b[0m \u001b[0mK1\u001b[0m \u001b[0;34m+\u001b[0m \u001b[0mc2\u001b[0m \u001b[0;34m*\u001b[0m \u001b[0mK2\u001b[0m \u001b[0;34m+\u001b[0m \u001b[0mc3\u001b[0m \u001b[0;34m*\u001b[0m \u001b[0mK3\u001b[0m \u001b[0;34m+\u001b[0m \u001b[0mc4\u001b[0m \u001b[0;34m*\u001b[0m \u001b[0mK4\u001b[0m\u001b[0;34m)\u001b[0m \u001b[0;34m*\u001b[0m \u001b[0mdt\u001b[0m\u001b[0;34m\u001b[0m\u001b[0;34m\u001b[0m\u001b[0m\n\u001b[0;32m---> 52\u001b[0;31m     \u001b[0;32mreturn\u001b[0m \u001b[0mxip1\u001b[0m\u001b[0;34m\u001b[0m\u001b[0;34m\u001b[0m\u001b[0m\n\u001b[0m\u001b[1;32m     53\u001b[0m \u001b[0;34m\u001b[0m\u001b[0m\n\u001b[1;32m     54\u001b[0m \u001b[0;32mdef\u001b[0m \u001b[0mrk4_v\u001b[0m\u001b[0;34m(\u001b[0m\u001b[0mti\u001b[0m\u001b[0;34m,\u001b[0m\u001b[0mxi\u001b[0m\u001b[0;34m,\u001b[0m\u001b[0mvi\u001b[0m\u001b[0;34m,\u001b[0m\u001b[0mdt\u001b[0m\u001b[0;34m)\u001b[0m\u001b[0;34m:\u001b[0m\u001b[0;34m\u001b[0m\u001b[0;34m\u001b[0m\u001b[0m\n",
      "\u001b[0;31mNameError\u001b[0m: name 'xip1' is not defined"
     ]
    }
   ],
   "source": [
    "from math import *\n",
    "import numpy as np\n",
    "import matplotlib.pyplot as plt\n",
    "# assume F(t) = 0\n",
    "\n",
    "k = 50\n",
    "gamma = 0.5\n",
    "m = 1\n",
    "c1 = 1./6\n",
    "c2 = 2./6\n",
    "c3 = 2./6\n",
    "c4 = 1./6\n",
    "a2 = 1./2\n",
    "a3 = 1./2\n",
    "a4 = 1.\n",
    "b21 = 1./2\n",
    "b31 = 0.\n",
    "b32 = 1./2\n",
    "b41 = 0.\n",
    "b42 = 0.\n",
    "b43 = 1.\n",
    "f_over_m = lambda t: 0\n",
    "fxy_x = lambda t, x, v: v\n",
    "fxy_v = lambda t, x, v: f_over_m(t) - 2 * gamma * v - k * x\n",
    "ti = 0.0\n",
    "tf = 5.0\n",
    "n = 375\n",
    "dt = (tf -ti)/(n-1)\n",
    "x_Ts = np.linspace(ti, tf)\n",
    "t = np.zeros(n)\n",
    "x = np.zeros(n)\n",
    "v = np.zeros(n)\n",
    "x_4 = 0.0\n",
    "v_4 = 0.2\n",
    "t[0] = ti\n",
    "x[0] = x_4\n",
    "v[0] = v_4\n",
    "omega_n = sqrt(k/m)\n",
    "zeta_ud = gamma/(2*m*omega_n)\n",
    "omega_d = omega_n * sqrt(1-zeta_ud**2)\n",
    "A = x_4\n",
    "B = v_4\n",
    "DI = A\n",
    "DII = (B+A*zeta_ud*omega_n)/omega_d\n",
    "\n",
    "def rk4_x(ti,xi,vi,dt):\n",
    "    K1 = fxy_x(ti,xi,vi)\n",
    "    K2 = fxy_x(ti + a2 * dt, xi + b21 * K1 * dt, vi)\n",
    "    K3 = fxy_x(ti + a3 * dt, xi + b31 * K1 * dt + b32 * K2 * dt, vi)\n",
    "    K4 = fxy_x(ti + a4 * dt, xi + b41 * K1 * dt + b42 * K2 * dt + b43 * K3 * dt, vi)\n",
    "    vip1 = xi + (c1 * K1 + c2 * K2 + c3 * K3 + c4 * K4) * dt\n",
    "    return xip1\n",
    "\n",
    "def rk4_v(ti,xi,vi,dt):\n",
    "    K1 = fxy_v(ti,xi,vi)\n",
    "    K2 = fxy_v(ti + a2 * dt, xi, vi + b21 * K1 * dt)\n",
    "    K3 = fxy_v(ti + a3 * dt, xi, vi + b31 * K1 * dt + b32 * K2 * dt)\n",
    "    K4 = fxy_v(ti + a4 * dt, xi, vi + b41 * K1 * dt + b42 * K2 * dt + b43 * K3 * dt)\n",
    "    vip1 = vi + (c1 * K1 + c2 * K2 + c3 * K3 + c4 * K4) * dt\n",
    "    return vip1\n",
    "\n",
    "def xud_of_t(DI, DII, zeta, omega_n, omega_d, t):\n",
    "    return exp(-zeta * omega_n * t) * (DI * cos(omega_d *t) + DII * sin(omega_d * t))\n",
    "\n",
    "def vud_if_t(DI, DII, zeta, omega_n, t):\n",
    "    return exp(-zeta * omega_n * t) * (-DI * (omega_d * sin(omega_d * t) + zeta * omega_n * cos(omega_d * t)) + DII * (omega_d * cos(omega_d * t) - zeta * omega_n * sin(omega_d * t)))\n",
    "\n",
    "for i in range(1,n):\n",
    "    t[i] = ti + i * dt\n",
    "    x[i] = rk4_x(t[i-1], x[i-1], v[i-1], dt)\n",
    "    v[i] = rk4_v(t[i-1], x[i-1], v[i-1], dt)\n",
    "x_ud = [xud_of_t(DI, DII, zeta_ud, omega_n, omega_d, tval) for tval in x_TS]\n",
    "v_ud = [vud_of_t(DI, DII, zeta_ud, omega_n, omega_d, tval) for tval in x_TS]\n",
    "\n",
    "\n",
    "plt.plot(x_TS, x_ud, label = \"Exact Solution\", color = \"b\", linewidth = \"2.0\")\n",
    "plt.plot(t, x, label = \"Runge-Kutta 4\", color = \"r\", linestyle = \"--\", linewidth = \"2.0\")\n",
    "plt.title(\"Runge-Kutta 4 for function x(t)\")\n",
    "plt.text(1 + tf, -0.02, f\"$c_1$={c1:.2f}\\n$c_2$={c2:.2f}\\n$c_3$={c3:.2f}\\n$c_4$={c4:.2f}\\n$a_2$={a2:.2f}\\n$a_3$={a3:.2f}\\n$a_4$={a4:.2f}\\n$b_{{21}}$={b23:.2f}\")\n",
    "plt.xlabel(\"t(s)\")\n",
    "plt.ylabel(\"x(m)\")\n",
    "plt.legend()\n",
    "plt.show()\n",
    "plt.plot(x_TS, v_ud, label = \"Exact Solution\", color = \"b\", linewidth = \"2.0\")\n",
    "plt.plot(t, v, label = \"Runge_Kutta 4\", color = \"r\", linestyle = \"--\", linewidth = \"2.0\")\n",
    "plt.title(\"Runge-Kutta 4 for function v(t)\")\n",
    "plt.text(1 + tf, -0.15, f\"$c_1$={c1:.2f}\\n$c_2$={c2:.2f}\\n$c_3$={c3:.2f}\\n$c_4$={c4:.2f}\\n$a_2$={a2:.2f}\\n$a_3$={a3:.2f}\\n$a_4$={a4:.2f}\\n$b_{{21}}$={b23:.2f}\")\n",
    "plt.xlabel(\"t(s)\")\n",
    "plt.ylabel(\"v (m/s)\")\n",
    "plt.legend()\n",
    "plt.show()"
   ]
  },
  {
   "cell_type": "markdown",
   "id": "89fa2fb6-2652-46df-9b91-3b74f2df9d7e",
   "metadata": {},
   "source": [
    "## 3 RK4 Overdamping example"
   ]
  },
  {
   "cell_type": "code",
   "execution_count": 6,
   "id": "8193413e-28c2-42ce-9048-c6ffdd80714e",
   "metadata": {},
   "outputs": [
    {
     "data": {
      "image/png": "[encoded data removed]",
      "text/plain": [
       "<Figure size 432x432 with 1 Axes>"
      ]
     },
     "metadata": {
      "needs_background": "light"
     },
     "output_type": "display_data"
    }
   ],
   "source": [
    "%matplotlib inline\n",
    "from math import *\n",
    "import numpy as np\n",
    "import matplotlib.pyplot as plt\n",
    "\n",
    "def x_of_t(lI,lII,t):\n",
    "    return 1/(lI-lII)*exp(lI*t)+1/(lII-lI)*exp(lII*t)\n",
    "def v_of_t(lI,lII,t):\n",
    "    return lI/(lI-lII)*exp(lI*t)+lII/(lII-lI)*exp(lII*t)\n",
    "\n",
    "zeta = 1.1\n",
    "omega_n = 1.\n",
    "lambda_I = -omega_n * (zeta - sqrt(zeta**2 - 1))\n",
    "lambda_II = -omega_n * (zeta + sqrt(zeta**2 - 1))\n",
    "\n",
    "ti = 0.\n",
    "tf = 10.\n",
    "t = np.linspace(ti,tf,100)\n",
    "x = [x_of_t(lambda_I, lambda_II,tval) for tval in t]\n",
    "\n",
    "fig = plt.figure(figsize=(6,6))\n",
    "plt.plot(t,x,label=\"x vs. t\",color=\"b\",linewidth=\"2.0\")\n",
    "plt.title(\"Displacement for an Overdamped System\")\n",
    "omega_n_str = \"\\omega_n\"\n",
    "zeta_str = \"\\zeta\"\n",
    "x0 = x_of_t(lambda_I,lambda_II,t[0])\n",
    "v0 = v_of_t(lambda_I,lambda_II,t[0])\n",
    "txt_loc_x = 0.75*tf\n",
    "txt_loc_y = 0.75*max(x)\n",
    "plt.text(txt_loc_x,txt_loc_y, f\"${zeta_str}$={zeta:.2f}\\n${omega_n_str}$={omega_n:.2f} rad/s\\n$x(${t[0]})={x0:.2f} m\\n$v(${t[0]})={v0:.2f} m/s\")\n",
    "plt.xlabel(\"t (s)\")\n",
    "plt.ylabel(\"x (m)\")\n",
    "plt.tight_layout()\n",
    "plt.show()"
   ]
  },
  {
   "cell_type": "markdown",
   "id": "66415ee2-f61f-43b4-bae8-049eba9f4288",
   "metadata": {},
   "source": [
    "## 3.2 Critically damped example"
   ]
  },
  {
   "cell_type": "code",
   "execution_count": 7,
   "id": "6a70f3c3-acb6-4450-b933-42b2342ba96f",
   "metadata": {},
   "outputs": [
    {
     "data": {
      "image/png": "[encoded data removed]",
      "text/plain": [
       "<Figure size 432x432 with 1 Axes>"
      ]
     },
     "metadata": {
      "needs_background": "light"
     },
     "output_type": "display_data"
    }
   ],
   "source": [
    "%matplotlib inline\n",
    "from math import *\n",
    "import numpy as np\n",
    "import matplotlib.pyplot as plt\n",
    "\n",
    "def x_of_t(omega_n, t):\n",
    "    return t*exp(-omega_n*t)\n",
    "def v_of_t(omega_n, t):\n",
    "    return exp(-omega_n*t)*(1-omega_n*t)\n",
    "\n",
    "omega_n = 0.5\n",
    "\n",
    "ti = 0.\n",
    "tf = 10.\n",
    "t = np.linspace(ti,tf,100)\n",
    "x = [x_of_t(omega_n,tval) for tval in t]\n",
    "\n",
    "fig = plt.figure(figsize=(6,6))\n",
    "plt.plot(t,x,label=\"x vs. t\",color=\"b\",linewidth=\"2.0\")\n",
    "plt.title(\"Displacement for a Critically Damped System\")\n",
    "omega_n_str = \"\\omega_n\"\n",
    "zeta_str = \"\\zeta\"\n",
    "x0 = x_of_t(omega_n,t[0])\n",
    "v0 = v_of_t(omega_n,t[0])\n",
    "txt_loc_x = 0.75*tf\n",
    "txt_loc_y = 0.75*max(x)\n",
    "plt.text(txt_loc_x,txt_loc_y, f\"${omega_n_str}$={omega_n:.2f} rad/s\\n$x(${t[0]})={x0:.2f} m\\n$v(${t[0]})={v0:.2f} m/s\")\n",
    "plt.xlabel(\"t (s)\")\n",
    "plt.ylabel(\"x (m)\")\n",
    "plt.tight_layout()\n",
    "plt.show()\n"
   ]
  },
  {
   "cell_type": "markdown",
   "id": "64921cd9-c930-43b8-95fa-21ec1d380d5b",
   "metadata": {},
   "source": [
    "## RK4 underdamping example"
   ]
  },
  {
   "cell_type": "code",
   "execution_count": 8,
   "id": "72672223-caa4-4d50-bc4a-512568364034",
   "metadata": {},
   "outputs": [
    {
     "ename": "SyntaxError",
     "evalue": "invalid syntax (1816927103.py, line 34)",
     "output_type": "error",
     "traceback": [
      "\u001b[0;36m  File \u001b[0;32m\"/tmp/ipykernel_12688/1816927103.py\"\u001b[0;36m, line \u001b[0;32m34\u001b[0m\n\u001b[0;31m    plt.show()$x_{\\small critdamp} = C_I e^{-\\omega_n t} + C_{II} t e^{-\\omega_n t}$\u001b[0m\n\u001b[0m              ^\u001b[0m\n\u001b[0;31mSyntaxError\u001b[0m\u001b[0;31m:\u001b[0m invalid syntax\n"
     ]
    }
   ],
   "source": [
    "%matplotlib inline\n",
    "from math import *\n",
    "import numpy as np\n",
    "import matplotlib.pyplot as plt\n",
    "\n",
    "def x_of_t(zeta,omega_n,omega_d,t):\n",
    "    return exp(-zeta*omega_n*t)*(cos(omega_d*t)+zeta*omega_n/omega_d*sin(omega_d*t))\n",
    "def v_of_t(zeta,omega_n,omega_d,t):\n",
    "    return exp(-zeta*omega_n*t)*(-omega_d*sin(omega_d*t)-zeta*omega_n*cos(omega_d*t)+zeta*omega_n/omega_d*(omega_d*cos(omega_d*t)-zeta*omega_n*sin(omega_d*t)))       \n",
    "\n",
    "zeta = 0.1\n",
    "omega_n = 5\n",
    "omega_d = omega_n*sqrt(1-zeta**2)\n",
    "\n",
    "ti = 0.\n",
    "tf = 10.\n",
    "t = np.linspace(ti,tf,500)\n",
    "x = [x_of_t(zeta,omega_n,omega_d,tval) for tval in t]\n",
    "\n",
    "fig = plt.figure(figsize=(7,7))\n",
    "plt.plot(t,x,label=\"x vs. t\",color=\"b\",linewidth=\"2.0\")\n",
    "plt.title(\"Displacement for an Underdamped System\")\n",
    "omega_n_str = \"\\omega_n\"\n",
    "zeta_str = \"\\zeta\"\n",
    "omega_d_str = \"\\omega_d\"\n",
    "x0 = x_of_t(zeta,omega_n,omega_d,t[0])\n",
    "v0 = v_of_t(zeta,omega_n,omega_d,t[0])\n",
    "txt_loc_x = 0.70*tf\n",
    "txt_loc_y = 0.70*max(x)\n",
    "plt.text(txt_loc_x,txt_loc_y, f\"${zeta_str}$={zeta:.2f}\\n${omega_n_str}$={omega_n:.2f} rad/s\\n${omega_d_str}$={omega_d:.2f} rad/s\\n$x(${t[0]})={x0:.2f} m\\n$v(${t[0]})={v0:.2f} m/s\")\n",
    "plt.xlabel(\"t (s)\")\n",
    "plt.ylabel(\"x (m)\")\n",
    "plt.tight_layout()\n",
    "plt.show()$x_{\\small critdamp} = C_I e^{-\\omega_n t} + C_{II} t e^{-\\omega_n t}$"
   ]
  },
  {
   "cell_type": "code",
   "execution_count": null,
   "id": "ac0821b2-67d8-412b-a1be-e2af1eaa2371",
   "metadata": {},
   "outputs": [],
   "source": []
  }
 ],
 "metadata": {
  "kernelspec": {
   "display_name": "Python 3 (ipykernel)",
   "language": "python",
   "name": "python3"
  },
  "language_info": {
   "codemirror_mode": {
    "name": "ipython",
    "version": 3
   },
   "file_extension": ".py",
   "mimetype": "text/x-python",
   "name": "python",
   "nbconvert_exporter": "python",
   "pygments_lexer": "ipython3",
   "version": "3.9.5"
  }
 },
 "nbformat": 4,
 "nbformat_minor": 5
}
